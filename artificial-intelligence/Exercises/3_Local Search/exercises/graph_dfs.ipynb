{
 "cells": [
  {
   "cell_type": "markdown",
   "metadata": {
    "graffitiCellId": "id_m8owu67"
   },
   "source": [
    "# Graph Depth First Search\n",
    "In this exercise, you'll see how to do a depth first search on a graph. To start, let's create a graph class in Python."
   ]
  },
  {
   "cell_type": "code",
   "execution_count": 26,
   "metadata": {
    "graffitiCellId": "id_ahrjg5m"
   },
   "outputs": [],
   "source": [
    "class GraphNode(object):\n",
    "    def __init__(self, val):\n",
    "        self.value = val\n",
    "        self.children = []\n",
    "        \n",
    "    def add_child(self,new_node):\n",
    "        self.children.append(new_node)\n",
    "    \n",
    "    def remove_child(self,del_node):\n",
    "        if del_node in self.children:\n",
    "            self.children.remove(del_node)\n",
    "\n",
    "class Graph(object):\n",
    "    def __init__(self,node_list):\n",
    "        self.nodes = node_list\n",
    "        \n",
    "    def add_edge(self,node1,node2):\n",
    "        if(node1 in self.nodes and node2 in self.nodes):\n",
    "            node1.add_child(node2)\n",
    "            node2.add_child(node1)\n",
    "            \n",
    "    def remove_edge(self,node1,node2):\n",
    "        if(node1 in self.nodes and node2 in self.nodes):\n",
    "            node1.remove_child(node2)\n",
    "            node2.remove_child(node1)"
   ]
  },
  {
   "cell_type": "markdown",
   "metadata": {
    "graffitiCellId": "id_1gmwlh4"
   },
   "source": [
    "Now let's create the graph."
   ]
  },
  {
   "cell_type": "code",
   "execution_count": 27,
   "metadata": {
    "graffitiCellId": "id_7t1mjv6"
   },
   "outputs": [],
   "source": [
    "nodeG = GraphNode('G')\n",
    "nodeR = GraphNode('R')\n",
    "nodeA = GraphNode('A')\n",
    "nodeP = GraphNode('P')\n",
    "nodeH = GraphNode('H')\n",
    "nodeS = GraphNode('S')\n",
    "\n",
    "graph1 = Graph([nodeS,nodeH,nodeG,nodeP,nodeR,nodeA] ) \n",
    "graph1.add_edge(nodeG,nodeR)\n",
    "graph1.add_edge(nodeA,nodeR)\n",
    "graph1.add_edge(nodeA,nodeG)\n",
    "graph1.add_edge(nodeR,nodeP)\n",
    "graph1.add_edge(nodeH,nodeG)\n",
    "graph1.add_edge(nodeH,nodeP)\n",
    "graph1.add_edge(nodeS,nodeR)"
   ]
  },
  {
   "cell_type": "markdown",
   "metadata": {
    "graffitiCellId": "id_8vfpmgw"
   },
   "source": [
    "## Implement DFS\n",
    "Using what you know about DFS for trees, apply this to graphs. Implement the `dfs_search` to return the `GraphNode` with the value `search_value` starting at the `root_node`."
   ]
  },
  {
   "cell_type": "code",
   "execution_count": 37,
   "metadata": {
    "graffitiCellId": "id_k6nhmo1"
   },
   "outputs": [],
   "source": [
    "from queue import PriorityQueue\n",
    "\n",
    "def dfs_search(root_node, search_value):\n",
    "    print(\"\\nSearching {} from {}\".format(search_value, root_node.value))\n",
    "    path = [root_node]\n",
    "    explored = set()\n",
    "    while len(path) > 0:\n",
    "        print(\"  -------------\")\n",
    "        print(\"  explored: \" + str([p.value for p in explored]))\n",
    "        \n",
    "        head = path[-1]\n",
    "        print(\"  path: \" + str([p.value for p in path]))\n",
    "        \n",
    "        if head.value == search_value:\n",
    "            print(\"  => Found goal!\")\n",
    "            return s\n",
    "        \n",
    "        next = [node for node in head.children if node not in explored and node not in path]\n",
    "        if len(next) == 0:\n",
    "            print(\"  {} is a dead end\".format(head.value))\n",
    "            explored.add(head)\n",
    "            path.pop()\n",
    "            continue\n",
    "        \n",
    "        s = next[0]\n",
    "        path.append(s)\n",
    "        print(\"  adding {}\".format(s.value))\n",
    "    return False    "
   ]
  },
  {
   "cell_type": "markdown",
   "metadata": {
    "graffitiCellId": "id_flg9zjy"
   },
   "source": [
    "<span class=\"graffiti-highlight graffiti-id_flg9zjy-id_4sn6eaw\"><i></i><button>Show Solution</button></span>"
   ]
  },
  {
   "cell_type": "markdown",
   "metadata": {
    "graffitiCellId": "id_0aafts6"
   },
   "source": [
    "### Tests"
   ]
  },
  {
   "cell_type": "code",
   "execution_count": 38,
   "metadata": {
    "graffitiCellId": "id_3k4dgr7"
   },
   "outputs": [
    {
     "name": "stdout",
     "output_type": "stream",
     "text": [
      "\n",
      "Searching A from S\n",
      "  -------------\n",
      "  explored: []\n",
      "  path: ['S']\n",
      "  adding R\n",
      "  -------------\n",
      "  explored: []\n",
      "  path: ['S', 'R']\n",
      "  adding G\n",
      "  -------------\n",
      "  explored: []\n",
      "  path: ['S', 'R', 'G']\n",
      "  adding A\n",
      "  -------------\n",
      "  explored: []\n",
      "  path: ['S', 'R', 'G', 'A']\n",
      "  => Found goal!\n",
      "\n",
      "Searching S from P\n",
      "  -------------\n",
      "  explored: []\n",
      "  path: ['P']\n",
      "  adding R\n",
      "  -------------\n",
      "  explored: []\n",
      "  path: ['P', 'R']\n",
      "  adding G\n",
      "  -------------\n",
      "  explored: []\n",
      "  path: ['P', 'R', 'G']\n",
      "  adding A\n",
      "  -------------\n",
      "  explored: []\n",
      "  path: ['P', 'R', 'G', 'A']\n",
      "  A is a dead end\n",
      "  -------------\n",
      "  explored: ['A']\n",
      "  path: ['P', 'R', 'G']\n",
      "  adding H\n",
      "  -------------\n",
      "  explored: ['A']\n",
      "  path: ['P', 'R', 'G', 'H']\n",
      "  H is a dead end\n",
      "  -------------\n",
      "  explored: ['A', 'H']\n",
      "  path: ['P', 'R', 'G']\n",
      "  G is a dead end\n",
      "  -------------\n",
      "  explored: ['A', 'G', 'H']\n",
      "  path: ['P', 'R']\n",
      "  adding S\n",
      "  -------------\n",
      "  explored: ['A', 'G', 'H']\n",
      "  path: ['P', 'R', 'S']\n",
      "  => Found goal!\n",
      "\n",
      "Searching R from H\n",
      "  -------------\n",
      "  explored: []\n",
      "  path: ['H']\n",
      "  adding G\n",
      "  -------------\n",
      "  explored: []\n",
      "  path: ['H', 'G']\n",
      "  adding R\n",
      "  -------------\n",
      "  explored: []\n",
      "  path: ['H', 'G', 'R']\n",
      "  => Found goal!\n"
     ]
    }
   ],
   "source": [
    "assert nodeA == dfs_search(nodeS, 'A')\n",
    "assert nodeS == dfs_search(nodeP, 'S')\n",
    "assert nodeR == dfs_search(nodeH, 'R')"
   ]
  }
 ],
 "metadata": {
  "graffiti": {
   "firstAuthorId": "10694620118",
   "id": "id_9f31yr7",
   "language": "EN"
  },
  "kernelspec": {
   "display_name": "Python 3",
   "language": "python",
   "name": "python3"
  },
  "language_info": {
   "codemirror_mode": {
    "name": "ipython",
    "version": 3
   },
   "file_extension": ".py",
   "mimetype": "text/x-python",
   "name": "python",
   "nbconvert_exporter": "python",
   "pygments_lexer": "ipython3",
   "version": "3.6.3"
  }
 },
 "nbformat": 4,
 "nbformat_minor": 2
}
