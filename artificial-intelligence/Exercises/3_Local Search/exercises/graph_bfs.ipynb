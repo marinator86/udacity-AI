{
 "cells": [
  {
   "cell_type": "markdown",
   "metadata": {
    "graffitiCellId": "id_19cls48"
   },
   "source": [
    "# Graph Breadth First Search\n",
    "In this exercise, you'll see how to do a breadth first search on a graph. To start, let's create a graph class in Python."
   ]
  },
  {
   "cell_type": "code",
   "execution_count": 72,
   "metadata": {
    "graffitiCellId": "id_pmkelaq"
   },
   "outputs": [],
   "source": [
    "class GraphNode(object):\n",
    "    def __init__(self, val):\n",
    "        self.value = val\n",
    "        self.children = []\n",
    "        \n",
    "    def add_child(self,new_node):\n",
    "        self.children.append(new_node)\n",
    "    \n",
    "    def remove_child(self,del_node):\n",
    "        if del_node in self.children:\n",
    "            self.children.remove(del_node)\n",
    "            \n",
    "    def __lt__(self, other):\n",
    "        return self.value < other.value\n",
    "\n",
    "class Graph(object):\n",
    "    def __init__(self,node_list):\n",
    "        self.nodes = node_list\n",
    "        \n",
    "    def add_edge(self,node1,node2):\n",
    "        if(node1 in self.nodes and node2 in self.nodes):\n",
    "            node1.add_child(node2)\n",
    "            node2.add_child(node1)\n",
    "            \n",
    "    def remove_edge(self,node1,node2):\n",
    "        if(node1 in self.nodes and node2 in self.nodes):\n",
    "            node1.remove_child(node2)\n",
    "            node2.remove_child(node1)"
   ]
  },
  {
   "cell_type": "markdown",
   "metadata": {
    "graffitiCellId": "id_dk66y5p"
   },
   "source": [
    "Now let's create the graph."
   ]
  },
  {
   "cell_type": "code",
   "execution_count": 73,
   "metadata": {
    "graffitiCellId": "id_4twme6x"
   },
   "outputs": [],
   "source": [
    "nodeG = GraphNode('G')\n",
    "nodeR = GraphNode('R')\n",
    "nodeA = GraphNode('A')\n",
    "nodeP = GraphNode('P')\n",
    "nodeH = GraphNode('H')\n",
    "nodeS = GraphNode('S')\n",
    "\n",
    "graph1 = Graph([nodeS,nodeH,nodeG,nodeP,nodeR,nodeA] ) \n",
    "graph1.add_edge(nodeG,nodeR)\n",
    "graph1.add_edge(nodeA,nodeR)\n",
    "graph1.add_edge(nodeA,nodeG)\n",
    "graph1.add_edge(nodeR,nodeP)\n",
    "graph1.add_edge(nodeH,nodeG)\n",
    "graph1.add_edge(nodeH,nodeP)\n",
    "graph1.add_edge(nodeS,nodeR)"
   ]
  },
  {
   "cell_type": "code",
   "execution_count": null,
   "metadata": {
    "graffitiCellId": "id_tv5nxdq"
   },
   "outputs": [],
   "source": []
  },
  {
   "cell_type": "markdown",
   "metadata": {
    "graffitiCellId": "id_iplss81"
   },
   "source": [
    "## Implement BFS\n",
    "Using what you know about BFS for trees and DFS for graphs, let's do BFS for graphs. Implement the `bfs_search` to return the `GraphNode` with the value `search_value` starting at the `root_node`."
   ]
  },
  {
   "cell_type": "code",
   "execution_count": 86,
   "metadata": {
    "graffitiCellId": "id_1vk7aeh"
   },
   "outputs": [],
   "source": [
    "from queue import PriorityQueue\n",
    "\n",
    "def bfs_search(root_node, search_value):\n",
    "    print(\"\\nSearching {} from {}\".format(search_value, root_node.value))\n",
    "    paths = PriorityQueue()\n",
    "    paths.put((1, [root_node]))\n",
    "    explored = set()\n",
    "    frontier = set([root_node])\n",
    "    while True:\n",
    "        print(\"  -------------\")\n",
    "        print(\"  frontier: \" + str([p.value for p in frontier]))\n",
    "        print(\"  explored: \" + str([p.value for p in explored]))\n",
    "        if len(frontier) == 0:\n",
    "            return False\n",
    "        path = paths.get()[1]\n",
    "        print(\"  Will expand path: \" + str([p.value for p in path]))\n",
    "        s = path[-1]\n",
    "        explored.add(s)\n",
    "        frontier.remove(s)\n",
    "        if s.value == search_value:\n",
    "            print(\"  => Found goal!\")\n",
    "            return path[-1]\n",
    "        for a in s.children:\n",
    "            if a not in frontier and a not in explored:\n",
    "                nfe = path.copy()\n",
    "                nfe.append(a)\n",
    "                print(\"  NFE: \" + str([p.value for p in nfe]))\n",
    "                paths.put((len(nfe), nfe))\n",
    "                frontier.add(a)\n",
    "    pass    "
   ]
  },
  {
   "cell_type": "markdown",
   "metadata": {
    "graffitiCellId": "id_fg1wpq1"
   },
   "source": [
    "<span class=\"graffiti-highlight graffiti-id_fg1wpq1-id_g7fi7m5\"><i></i><button>Show Solution</button></span>"
   ]
  },
  {
   "cell_type": "markdown",
   "metadata": {
    "graffitiCellId": "id_ej37296"
   },
   "source": [
    "### Tests"
   ]
  },
  {
   "cell_type": "code",
   "execution_count": 87,
   "metadata": {
    "graffitiCellId": "id_ajsx9hw"
   },
   "outputs": [
    {
     "name": "stdout",
     "output_type": "stream",
     "text": [
      "\n",
      "Searching A from S\n",
      "  -------------\n",
      "  frontier: ['S']\n",
      "  explored: []\n",
      "  Will expand path: ['S']\n",
      "  NFE: ['S', 'R']\n",
      "  -------------\n",
      "  frontier: ['R']\n",
      "  explored: ['S']\n",
      "  Will expand path: ['S', 'R']\n",
      "  NFE: ['S', 'R', 'G']\n",
      "  NFE: ['S', 'R', 'A']\n",
      "  NFE: ['S', 'R', 'P']\n",
      "  -------------\n",
      "  frontier: ['A', 'G', 'P']\n",
      "  explored: ['R', 'S']\n",
      "  Will expand path: ['S', 'R', 'A']\n",
      "  => Found goal!\n",
      "\n",
      "Searching S from P\n",
      "  -------------\n",
      "  frontier: ['P']\n",
      "  explored: []\n",
      "  Will expand path: ['P']\n",
      "  NFE: ['P', 'R']\n",
      "  NFE: ['P', 'H']\n",
      "  -------------\n",
      "  frontier: ['R', 'H']\n",
      "  explored: ['P']\n",
      "  Will expand path: ['P', 'H']\n",
      "  NFE: ['P', 'H', 'G']\n",
      "  -------------\n",
      "  frontier: ['R', 'G']\n",
      "  explored: ['H', 'P']\n",
      "  Will expand path: ['P', 'R']\n",
      "  NFE: ['P', 'R', 'A']\n",
      "  NFE: ['P', 'R', 'S']\n",
      "  -------------\n",
      "  frontier: ['A', 'S', 'G']\n",
      "  explored: ['H', 'P', 'R']\n",
      "  Will expand path: ['P', 'H', 'G']\n",
      "  -------------\n",
      "  frontier: ['A', 'S']\n",
      "  explored: ['H', 'G', 'P', 'R']\n",
      "  Will expand path: ['P', 'R', 'A']\n",
      "  -------------\n",
      "  frontier: ['S']\n",
      "  explored: ['R', 'A', 'H', 'P', 'G']\n",
      "  Will expand path: ['P', 'R', 'S']\n",
      "  => Found goal!\n",
      "\n",
      "Searching R from H\n",
      "  -------------\n",
      "  frontier: ['H']\n",
      "  explored: []\n",
      "  Will expand path: ['H']\n",
      "  NFE: ['H', 'G']\n",
      "  NFE: ['H', 'P']\n",
      "  -------------\n",
      "  frontier: ['G', 'P']\n",
      "  explored: ['H']\n",
      "  Will expand path: ['H', 'G']\n",
      "  NFE: ['H', 'G', 'R']\n",
      "  NFE: ['H', 'G', 'A']\n",
      "  -------------\n",
      "  frontier: ['R', 'A', 'P']\n",
      "  explored: ['H', 'G']\n",
      "  Will expand path: ['H', 'P']\n",
      "  -------------\n",
      "  frontier: ['R', 'A']\n",
      "  explored: ['H', 'G', 'P']\n",
      "  Will expand path: ['H', 'G', 'A']\n",
      "  -------------\n",
      "  frontier: ['R']\n",
      "  explored: ['H', 'G', 'P', 'A']\n",
      "  Will expand path: ['H', 'G', 'R']\n",
      "  => Found goal!\n"
     ]
    }
   ],
   "source": [
    "assert nodeA == bfs_search(nodeS, 'A')\n",
    "assert nodeS == bfs_search(nodeP, 'S')\n",
    "assert nodeR == bfs_search(nodeH, 'R')"
   ]
  },
  {
   "cell_type": "code",
   "execution_count": null,
   "metadata": {
    "graffitiCellId": "id_owu85it"
   },
   "outputs": [],
   "source": []
  }
 ],
 "metadata": {
  "graffiti": {
   "firstAuthorId": "dev",
   "id": "id_kq4h66c",
   "language": "EN"
  },
  "kernelspec": {
   "display_name": "Python 3",
   "language": "python",
   "name": "python3"
  },
  "language_info": {
   "codemirror_mode": {
    "name": "ipython",
    "version": 3
   },
   "file_extension": ".py",
   "mimetype": "text/x-python",
   "name": "python",
   "nbconvert_exporter": "python",
   "pygments_lexer": "ipython3",
   "version": "3.6.3"
  }
 },
 "nbformat": 4,
 "nbformat_minor": 2
}
